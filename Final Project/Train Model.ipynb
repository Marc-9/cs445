{
 "cells": [
  {
   "cell_type": "code",
   "execution_count": 2,
   "metadata": {},
   "outputs": [],
   "source": [
    "import pandas as pd\n",
    "import torch\n",
    "import matplotlib.pyplot as plt\n",
    "import numpy as np"
   ]
  },
  {
   "cell_type": "code",
   "execution_count": 5,
   "metadata": {},
   "outputs": [
    {
     "data": {
      "text/html": [
       "<div>\n",
       "<style scoped>\n",
       "    .dataframe tbody tr th:only-of-type {\n",
       "        vertical-align: middle;\n",
       "    }\n",
       "\n",
       "    .dataframe tbody tr th {\n",
       "        vertical-align: top;\n",
       "    }\n",
       "\n",
       "    .dataframe thead th {\n",
       "        text-align: right;\n",
       "    }\n",
       "</style>\n",
       "<table border=\"1\" class=\"dataframe\">\n",
       "  <thead>\n",
       "    <tr style=\"text-align: right;\">\n",
       "      <th></th>\n",
       "      <th>home_win</th>\n",
       "      <th>away_win</th>\n",
       "      <th>draw</th>\n",
       "      <th>home_possLostAll</th>\n",
       "      <th>away_possLostAll</th>\n",
       "      <th>home_shotFastbreak</th>\n",
       "      <th>away_shotFastbreak</th>\n",
       "      <th>home_lastManTackle</th>\n",
       "      <th>away_lastManTackle</th>\n",
       "      <th>home_totalFinalThirdPasses</th>\n",
       "      <th>...</th>\n",
       "      <th>home_ballRecovery</th>\n",
       "      <th>away_ballRecovery</th>\n",
       "      <th>home_cornerTaken</th>\n",
       "      <th>away_cornerTaken</th>\n",
       "      <th>home_cornerTaken.1</th>\n",
       "      <th>away_cornerTaken.1</th>\n",
       "      <th>home_fouledFinalThird</th>\n",
       "      <th>away_fouledFinalThird</th>\n",
       "      <th>home_dispossessed</th>\n",
       "      <th>away_dispossessed</th>\n",
       "    </tr>\n",
       "  </thead>\n",
       "  <tbody>\n",
       "    <tr>\n",
       "      <td>0</td>\n",
       "      <td>1</td>\n",
       "      <td>0</td>\n",
       "      <td>0</td>\n",
       "      <td>147</td>\n",
       "      <td>132</td>\n",
       "      <td>2</td>\n",
       "      <td>0</td>\n",
       "      <td>0</td>\n",
       "      <td>0</td>\n",
       "      <td>228</td>\n",
       "      <td>...</td>\n",
       "      <td>55</td>\n",
       "      <td>52</td>\n",
       "      <td>8</td>\n",
       "      <td>0</td>\n",
       "      <td>8</td>\n",
       "      <td>0</td>\n",
       "      <td>1</td>\n",
       "      <td>2</td>\n",
       "      <td>8</td>\n",
       "      <td>6</td>\n",
       "    </tr>\n",
       "    <tr>\n",
       "      <td>1</td>\n",
       "      <td>1</td>\n",
       "      <td>0</td>\n",
       "      <td>0</td>\n",
       "      <td>164</td>\n",
       "      <td>163</td>\n",
       "      <td>1</td>\n",
       "      <td>0</td>\n",
       "      <td>0</td>\n",
       "      <td>0</td>\n",
       "      <td>127</td>\n",
       "      <td>...</td>\n",
       "      <td>64</td>\n",
       "      <td>60</td>\n",
       "      <td>8</td>\n",
       "      <td>1</td>\n",
       "      <td>8</td>\n",
       "      <td>1</td>\n",
       "      <td>5</td>\n",
       "      <td>8</td>\n",
       "      <td>9</td>\n",
       "      <td>15</td>\n",
       "    </tr>\n",
       "    <tr>\n",
       "      <td>2</td>\n",
       "      <td>1</td>\n",
       "      <td>0</td>\n",
       "      <td>0</td>\n",
       "      <td>161</td>\n",
       "      <td>183</td>\n",
       "      <td>0</td>\n",
       "      <td>0</td>\n",
       "      <td>0</td>\n",
       "      <td>0</td>\n",
       "      <td>129</td>\n",
       "      <td>...</td>\n",
       "      <td>71</td>\n",
       "      <td>73</td>\n",
       "      <td>5</td>\n",
       "      <td>3</td>\n",
       "      <td>5</td>\n",
       "      <td>3</td>\n",
       "      <td>4</td>\n",
       "      <td>2</td>\n",
       "      <td>6</td>\n",
       "      <td>11</td>\n",
       "    </tr>\n",
       "    <tr>\n",
       "      <td>3</td>\n",
       "      <td>1</td>\n",
       "      <td>0</td>\n",
       "      <td>0</td>\n",
       "      <td>160</td>\n",
       "      <td>168</td>\n",
       "      <td>0</td>\n",
       "      <td>0</td>\n",
       "      <td>0</td>\n",
       "      <td>0</td>\n",
       "      <td>100</td>\n",
       "      <td>...</td>\n",
       "      <td>69</td>\n",
       "      <td>63</td>\n",
       "      <td>4</td>\n",
       "      <td>3</td>\n",
       "      <td>4</td>\n",
       "      <td>3</td>\n",
       "      <td>4</td>\n",
       "      <td>0</td>\n",
       "      <td>7</td>\n",
       "      <td>9</td>\n",
       "    </tr>\n",
       "    <tr>\n",
       "      <td>4</td>\n",
       "      <td>0</td>\n",
       "      <td>0</td>\n",
       "      <td>1</td>\n",
       "      <td>143</td>\n",
       "      <td>147</td>\n",
       "      <td>1</td>\n",
       "      <td>1</td>\n",
       "      <td>0</td>\n",
       "      <td>0</td>\n",
       "      <td>107</td>\n",
       "      <td>...</td>\n",
       "      <td>62</td>\n",
       "      <td>62</td>\n",
       "      <td>3</td>\n",
       "      <td>8</td>\n",
       "      <td>3</td>\n",
       "      <td>8</td>\n",
       "      <td>4</td>\n",
       "      <td>1</td>\n",
       "      <td>5</td>\n",
       "      <td>6</td>\n",
       "    </tr>\n",
       "  </tbody>\n",
       "</table>\n",
       "<p>5 rows × 121 columns</p>\n",
       "</div>"
      ],
      "text/plain": [
       "   home_win  away_win  draw  home_possLostAll  away_possLostAll  \\\n",
       "0         1         0     0               147               132   \n",
       "1         1         0     0               164               163   \n",
       "2         1         0     0               161               183   \n",
       "3         1         0     0               160               168   \n",
       "4         0         0     1               143               147   \n",
       "\n",
       "   home_shotFastbreak  away_shotFastbreak  home_lastManTackle  \\\n",
       "0                   2                   0                   0   \n",
       "1                   1                   0                   0   \n",
       "2                   0                   0                   0   \n",
       "3                   0                   0                   0   \n",
       "4                   1                   1                   0   \n",
       "\n",
       "   away_lastManTackle  home_totalFinalThirdPasses  ...  home_ballRecovery  \\\n",
       "0                   0                         228  ...                 55   \n",
       "1                   0                         127  ...                 64   \n",
       "2                   0                         129  ...                 71   \n",
       "3                   0                         100  ...                 69   \n",
       "4                   0                         107  ...                 62   \n",
       "\n",
       "   away_ballRecovery  home_cornerTaken  away_cornerTaken  home_cornerTaken.1  \\\n",
       "0                 52                 8                 0                   8   \n",
       "1                 60                 8                 1                   8   \n",
       "2                 73                 5                 3                   5   \n",
       "3                 63                 4                 3                   4   \n",
       "4                 62                 3                 8                   3   \n",
       "\n",
       "   away_cornerTaken.1  home_fouledFinalThird  away_fouledFinalThird  \\\n",
       "0                   0                      1                      2   \n",
       "1                   1                      5                      8   \n",
       "2                   3                      4                      2   \n",
       "3                   3                      4                      0   \n",
       "4                   8                      4                      1   \n",
       "\n",
       "   home_dispossessed  away_dispossessed  \n",
       "0                  8                  6  \n",
       "1                  9                 15  \n",
       "2                  6                 11  \n",
       "3                  7                  9  \n",
       "4                  5                  6  \n",
       "\n",
       "[5 rows x 121 columns]"
      ]
     },
     "execution_count": 5,
     "metadata": {},
     "output_type": "execute_result"
    }
   ],
   "source": [
    "df.head()"
   ]
  },
  {
   "cell_type": "code",
   "execution_count": 12,
   "metadata": {},
   "outputs": [],
   "source": []
  },
  {
   "cell_type": "code",
   "execution_count": 4,
   "metadata": {},
   "outputs": [],
   "source": [
    "\n",
    "df = pd.read_csv(\"data.csv\")\n"
   ]
  },
  {
   "cell_type": "code",
   "execution_count": 15,
   "metadata": {},
   "outputs": [],
   "source": [
    "training = df.iloc[:-20] #select all the rows except for the last 20\n",
    "test = df.iloc[-20:] #select the last 20 rows"
   ]
  },
  {
   "cell_type": "code",
   "execution_count": 16,
   "metadata": {},
   "outputs": [],
   "source": [
    "#normalize the data between 0 and 1\n",
    "for e in range(3, len(training.columns)): #iterate for each column\n",
    "    num = max(training.iloc[:, e].max(), test.iloc[:, e].max()) #check the maximum value in each column\n",
    "    if num < 10:\n",
    "        training.iloc[:, e] /= 10\n",
    "        test.iloc[:, e] /= 10\n",
    "    elif num < 100:\n",
    "        training.iloc[:, e] /= 100\n",
    "        test.iloc[:, e] /= 100\n",
    "    elif num < 1000:\n",
    "        training.iloc[:, e] /= 1000\n",
    "        test.iloc[:, e] /= 1000\n",
    "    elif num < 10000:\n",
    "        training.iloc[:, e] /= 10000\n",
    "        test.iloc[:, e] /= 10000\n",
    "    else:\n",
    "        print(\"Error in normalization! Please check!\")"
   ]
  },
  {
   "cell_type": "code",
   "execution_count": 17,
   "metadata": {},
   "outputs": [],
   "source": [
    "training = training.sample(frac=1) #shuffle the training data\n",
    "test = test.sample(frac=1) #shuffle the test data"
   ]
  },
  {
   "cell_type": "code",
   "execution_count": 18,
   "metadata": {},
   "outputs": [],
   "source": [
    "#all rows, all columns except for the last 3 columns\n",
    "training_input  = training.iloc[:, 3:]\n",
    "#all rows, the last 3 columns\n",
    "training_output = training.iloc[:, :3]\n",
    "#all rows, all columns except for the last 3 columns\n",
    "test_input  = test.iloc[:, 3:]\n",
    "#all rows, the last 3 columns\n",
    "test_output = test.iloc[:, :3]"
   ]
  },
  {
   "cell_type": "code",
   "execution_count": 20,
   "metadata": {},
   "outputs": [],
   "source": [
    "# separating the output into two classes: win or draw-defeat\n",
    "# for the winners convert the output: \n",
    "# from (1, 0, 0) to 1 \n",
    "# from (0, 1, 0) to 0 \n",
    "# from (0, 0, 1) to 0\n",
    "def convert_output_win(source):\n",
    "    target = source.copy() # make a copy from source\n",
    "    target['new'] = 2 # create a new column with any value\n",
    "    for i, rows in target.iterrows():\n",
    "        if rows['home_win'] == 1:\n",
    "            rows['new'] = 0\n",
    "        if rows['draw'] == 1:\n",
    "            rows['new'] = 1\n",
    "        if rows['away_win'] == 1:\n",
    "            rows['new'] = 0\n",
    "    return target.iloc[:, -1]  # return all rows, the last column\n",
    "training_output = convert_output_win(training_output)\n",
    "test_output = convert_output_win(test_output)"
   ]
  },
  {
   "cell_type": "code",
   "execution_count": 47,
   "metadata": {},
   "outputs": [],
   "source": []
  },
  {
   "cell_type": "code",
   "execution_count": 21,
   "metadata": {},
   "outputs": [],
   "source": [
    "training_input = torch.FloatTensor(training_input.values)\n",
    "training_output = torch.FloatTensor(training_output.values)\n",
    "test_input = torch.FloatTensor(test_input.values)\n",
    "test_output = torch.FloatTensor(test_output.values)"
   ]
  },
  {
   "cell_type": "code",
   "execution_count": 22,
   "metadata": {},
   "outputs": [],
   "source": [
    "class Net(torch.nn.Module):\n",
    "    def __init__(self, input_size, hidden_size):\n",
    "        super(Net, self).__init__()\n",
    "        self.input_size = input_size\n",
    "        self.hidden_size = hidden_size\n",
    "        self.fc1 = torch.nn.Linear(self.input_size, self.hidden_size)\n",
    "        self.relu = torch.nn.ReLU()\n",
    "        self.fc2 = torch.nn.Linear(self.hidden_size, 1)\n",
    "        self.sigmoid = torch.nn.Sigmoid() \n",
    "    def forward(self, x):\n",
    "        hidden = self.fc1(x)\n",
    "        relu = self.relu(hidden)\n",
    "        output = self.fc2(relu)\n",
    "        output = self.sigmoid(output)\n",
    "        return output"
   ]
  },
  {
   "cell_type": "code",
   "execution_count": 23,
   "metadata": {},
   "outputs": [],
   "source": [
    "input_size = training_input.size()[1] # number of features selected\n",
    "hidden_size = 50 # number of nodes/neurons in the hidden layer\n",
    "model = Net(input_size, hidden_size) # create the model\n",
    "criterion = torch.nn.BCELoss() # works for binary classification\n",
    "# without momentum parameter\n",
    "optimizer = torch.optim.SGD(model.parameters(), lr = 0.9) \n",
    "#with momentum parameter\n",
    "optimizer = torch.optim.SGD(model.parameters(), lr = 0.9, momentum=0.2)"
   ]
  },
  {
   "cell_type": "code",
   "execution_count": 24,
   "metadata": {},
   "outputs": [
    {
     "name": "stdout",
     "output_type": "stream",
     "text": [
      "tensor([[0.4375],\n",
      "        [0.4361],\n",
      "        [0.4477],\n",
      "        [0.4382],\n",
      "        [0.4383],\n",
      "        [0.4445],\n",
      "        [0.4429],\n",
      "        [0.4400],\n",
      "        [0.4421],\n",
      "        [0.4395],\n",
      "        [0.4456],\n",
      "        [0.4399],\n",
      "        [0.4391],\n",
      "        [0.4394],\n",
      "        [0.4403],\n",
      "        [0.4341],\n",
      "        [0.4443],\n",
      "        [0.4381],\n",
      "        [0.4376],\n",
      "        [0.4433]], grad_fn=<SigmoidBackward0>)\n"
     ]
    }
   ],
   "source": [
    "model.eval()\n",
    "y_pred = model(test_input)\n",
    "print(y_pred)"
   ]
  },
  {
   "cell_type": "code",
   "execution_count": 25,
   "metadata": {},
   "outputs": [],
   "source": [
    "model.train()\n",
    "epochs = 5000\n",
    "errors = []\n",
    "for epoch in range(epochs):\n",
    "    optimizer.zero_grad()\n",
    "    # Forward pass\n",
    "    y_pred = model(training_input)\n",
    "    # Compute Loss\n",
    "    loss = criterion(y_pred.squeeze(), training_output)\n",
    "    errors.append(loss.item())\n",
    "    #print('Epoch {}: train loss: {}'.format(epoch, loss.item()))\n",
    "    # Backward pass\n",
    "    loss.backward()\n",
    "    optimizer.step()"
   ]
  },
  {
   "cell_type": "code",
   "execution_count": 28,
   "metadata": {},
   "outputs": [
    {
     "name": "stdout",
     "output_type": "stream",
     "text": [
      "tensor([[0.1393],\n",
      "        [0.0603],\n",
      "        [0.3177],\n",
      "        [0.2468],\n",
      "        [0.0246],\n",
      "        [0.2823],\n",
      "        [0.2165],\n",
      "        [0.3451],\n",
      "        [0.1590],\n",
      "        [0.2791],\n",
      "        [0.0486],\n",
      "        [0.1455],\n",
      "        [0.3529],\n",
      "        [0.3412],\n",
      "        [0.3412],\n",
      "        [0.1449],\n",
      "        [0.2355],\n",
      "        [0.0525],\n",
      "        [0.1584],\n",
      "        [0.2550]], grad_fn=<SigmoidBackward0>)\n"
     ]
    }
   ],
   "source": [
    "model.eval()\n",
    "y_pred = model(test_input)\n",
    "print(y_pred)\n",
    "after_train = criterion(y_pred.squeeze(), test_output)\n"
   ]
  },
  {
   "cell_type": "code",
   "execution_count": 27,
   "metadata": {},
   "outputs": [
    {
     "data": {
      "text/plain": [
       "tensor([0., 0., 1., 0., 0., 1., 0., 0., 0., 1., 0., 0., 0., 0., 1., 1., 1., 0.,\n",
       "        1., 0.])"
      ]
     },
     "execution_count": 27,
     "metadata": {},
     "output_type": "execute_result"
    }
   ],
   "source": [
    "test_output"
   ]
  },
  {
   "cell_type": "code",
   "execution_count": 29,
   "metadata": {},
   "outputs": [
    {
     "data": {
      "image/png": "[encoded data removed]",
      "text/plain": [
       "<Figure size 864x360 with 2 Axes>"
      ]
     },
     "metadata": {
      "needs_background": "light"
     },
     "output_type": "display_data"
    }
   ],
   "source": [
    "def plotcharts(errors):\n",
    "    errors = np.array(errors)\n",
    "    plt.figure(figsize=(12, 5))\n",
    "    graf02 = plt.subplot(1, 2, 1) # nrows, ncols, index\n",
    "    graf02.set_title('Errors')\n",
    "    plt.plot(errors, '-')\n",
    "    plt.xlabel('Epochs')\n",
    "    graf03 = plt.subplot(1, 2, 2)\n",
    "    graf03.set_title('Tests')\n",
    "    a = plt.plot(test_output.numpy(), 'yo', label='Real')\n",
    "    plt.setp(a, markersize=10)\n",
    "    a = plt.plot(y_pred.detach().numpy(), 'b+', label='Predicted')\n",
    "    plt.setp(a, markersize=10)\n",
    "    plt.legend(loc=7)\n",
    "    plt.show()\n",
    "plotcharts(errors)"
   ]
  },
  {
   "cell_type": "code",
   "execution_count": 61,
   "metadata": {},
   "outputs": [],
   "source": []
  },
  {
   "cell_type": "code",
   "execution_count": 62,
   "metadata": {},
   "outputs": [
    {
     "data": {
      "text/plain": [
       "tensor([[0.8999],\n",
       "        [0.6045],\n",
       "        [0.0357],\n",
       "        [0.0619],\n",
       "        [0.3671],\n",
       "        [0.5160],\n",
       "        [0.3005],\n",
       "        [0.0036],\n",
       "        [0.6575],\n",
       "        [0.0597],\n",
       "        [0.2353],\n",
       "        [0.1047],\n",
       "        [0.2027],\n",
       "        [0.7212],\n",
       "        [0.0711],\n",
       "        [0.8731],\n",
       "        [0.3248],\n",
       "        [0.0939],\n",
       "        [0.0016],\n",
       "        [0.6396]], grad_fn=<SigmoidBackward0>)"
      ]
     },
     "execution_count": 62,
     "metadata": {},
     "output_type": "execute_result"
    }
   ],
   "source": []
  },
  {
   "cell_type": "code",
   "execution_count": 31,
   "metadata": {},
   "outputs": [
    {
     "data": {
      "text/plain": [
       "tensor([0., 0., 1., 0., 0., 1., 0., 0., 0., 1., 0., 0., 0., 0., 1., 1., 1., 0.,\n",
       "        1., 0.])"
      ]
     },
     "execution_count": 31,
     "metadata": {},
     "output_type": "execute_result"
    }
   ],
   "source": [
    "test_output"
   ]
  },
  {
   "cell_type": "code",
   "execution_count": null,
   "metadata": {},
   "outputs": [],
   "source": []
  }
 ],
 "metadata": {
  "kernelspec": {
   "display_name": "Python 3",
   "language": "python",
   "name": "python3"
  },
  "language_info": {
   "codemirror_mode": {
    "name": "ipython",
    "version": 3
   },
   "file_extension": ".py",
   "mimetype": "text/x-python",
   "name": "python",
   "nbconvert_exporter": "python",
   "pygments_lexer": "ipython3",
   "version": "3.7.4"
  }
 },
 "nbformat": 4,
 "nbformat_minor": 2
}
