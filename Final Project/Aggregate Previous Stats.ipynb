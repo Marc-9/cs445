{
 "cells": [
  {
   "cell_type": "code",
   "execution_count": 1,
   "metadata": {},
   "outputs": [],
   "source": [
    "import os\n",
    "import json\n",
    "import pandas as pd\n",
    "import numpy as np\n",
    "from datetime import datetime"
   ]
  },
  {
   "cell_type": "code",
   "execution_count": 2,
   "metadata": {},
   "outputs": [],
   "source": [
    "df = pd.read_csv('parsed.csv')"
   ]
  },
  {
   "cell_type": "code",
   "execution_count": 26,
   "metadata": {},
   "outputs": [
    {
     "ename": "TypeError",
     "evalue": "unsupported operand type(s) for /: 'list' and 'int'",
     "output_type": "error",
     "traceback": [
      "\u001b[0;31m---------------------------------------------------------------------------\u001b[0m",
      "\u001b[0;31mTypeError\u001b[0m                                 Traceback (most recent call last)",
      "\u001b[0;32m<ipython-input-26-ad82e103642a>\u001b[0m in \u001b[0;36m<module>\u001b[0;34m\u001b[0m\n\u001b[1;32m     86\u001b[0m             \u001b[0mhAway\u001b[0m \u001b[0;34m=\u001b[0m \u001b[0;36m.4\u001b[0m\u001b[0;34m\u001b[0m\u001b[0;34m\u001b[0m\u001b[0m\n\u001b[1;32m     87\u001b[0m             \u001b[0mhome_team_avg\u001b[0m \u001b[0;34m=\u001b[0m \u001b[0;34m(\u001b[0m\u001b[0;34m(\u001b[0m\u001b[0mhAway_home_team_avg\u001b[0m \u001b[0;34m/\u001b[0m \u001b[0mhAway_home_team_count\u001b[0m\u001b[0;34m)\u001b[0m \u001b[0;34m*\u001b[0m \u001b[0mhAway\u001b[0m\u001b[0;34m)\u001b[0m  \u001b[0;34m+\u001b[0m \u001b[0;34m(\u001b[0m\u001b[0;34m(\u001b[0m\u001b[0mrecent_home_team_avg\u001b[0m \u001b[0;34m/\u001b[0m \u001b[0mrecent_home_team_count\u001b[0m\u001b[0;34m)\u001b[0m \u001b[0;34m*\u001b[0m \u001b[0mrecent\u001b[0m\u001b[0;34m)\u001b[0m\u001b[0;34m\u001b[0m\u001b[0;34m\u001b[0m\u001b[0m\n\u001b[0;32m---> 88\u001b[0;31m             \u001b[0maway_team_avg\u001b[0m \u001b[0;34m=\u001b[0m \u001b[0;34m(\u001b[0m\u001b[0;34m(\u001b[0m\u001b[0mhAway_away_team_avg\u001b[0m \u001b[0;34m/\u001b[0m \u001b[0mhAway_away_team_count\u001b[0m\u001b[0;34m)\u001b[0m \u001b[0;34m*\u001b[0m \u001b[0mhAway\u001b[0m\u001b[0;34m)\u001b[0m \u001b[0;34m+\u001b[0m \u001b[0;34m(\u001b[0m\u001b[0;34m(\u001b[0m\u001b[0mrecent_away_team_avg\u001b[0m \u001b[0;34m/\u001b[0m \u001b[0mrecent_away_team_count\u001b[0m\u001b[0;34m)\u001b[0m \u001b[0;34m*\u001b[0m \u001b[0mrecent\u001b[0m\u001b[0;34m)\u001b[0m\u001b[0;34m\u001b[0m\u001b[0;34m\u001b[0m\u001b[0m\n\u001b[0m\u001b[1;32m     89\u001b[0m         \u001b[0;32melse\u001b[0m\u001b[0;34m:\u001b[0m\u001b[0;34m\u001b[0m\u001b[0;34m\u001b[0m\u001b[0m\n\u001b[1;32m     90\u001b[0m             \u001b[0mhome_team_avg\u001b[0m \u001b[0;34m=\u001b[0m \u001b[0;34m(\u001b[0m\u001b[0;34m(\u001b[0m\u001b[0mhAway_home_team_avg\u001b[0m \u001b[0;34m/\u001b[0m \u001b[0mhAway_home_team_count\u001b[0m\u001b[0;34m)\u001b[0m \u001b[0;34m*\u001b[0m \u001b[0mhAway\u001b[0m\u001b[0;34m)\u001b[0m \u001b[0;34m+\u001b[0m \u001b[0;34m(\u001b[0m\u001b[0;34m(\u001b[0m\u001b[0mh2h_home_team_avg\u001b[0m \u001b[0;34m/\u001b[0m \u001b[0mh2h_home_team_count\u001b[0m\u001b[0;34m)\u001b[0m \u001b[0;34m*\u001b[0m \u001b[0mh2h\u001b[0m\u001b[0;34m)\u001b[0m \u001b[0;34m+\u001b[0m \u001b[0;34m(\u001b[0m\u001b[0;34m(\u001b[0m\u001b[0mrecent_home_team_avg\u001b[0m \u001b[0;34m/\u001b[0m \u001b[0mrecent_home_team_count\u001b[0m\u001b[0;34m)\u001b[0m \u001b[0;34m*\u001b[0m \u001b[0mrecent\u001b[0m\u001b[0;34m)\u001b[0m\u001b[0;34m\u001b[0m\u001b[0;34m\u001b[0m\u001b[0m\n",
      "\u001b[0;31mTypeError\u001b[0m: unsupported operand type(s) for /: 'list' and 'int'"
     ]
    }
   ],
   "source": [
    "with open('modified3.csv', \"w\") as f2:\n",
    "    f2.write(\"home_win,away_win,draw,home_possLostAll,away_possLostAll,home_shotFastbreak,away_shotFastbreak,home_lastManTackle,away_lastManTackle,home_totalFinalThirdPasses,away_totalFinalThirdPasses,home_putThrough,away_putThrough,home_accurateGoalKicks,away_accurateGoalKicks,home_aerialLost,away_aerialLost,home_totalLayoffs,away_totalLayoffs,home_interception,away_interception,home_interceptionsInBox,away_interceptionsInBox,home_totalLaunches,away_totalLaunches,home_errorLeadToShot,away_errorLeadToShot,home_effectiveHeadClearance,away_effectiveHeadClearance,home_sixYardBlock,away_sixYardBlock,home_interceptionWon,away_interceptionWon,home_attemptedTackleFoul,away_attemptedTackleFoul,home_crosses18yardplus,away_crosses18yardplus,home_attemptsConcededIbox,away_attemptsConcededIbox,home_attFastbreak,away_attFastbreak,home_finalThirdEntries,away_finalThirdEntries,home_possWonAtt3rd,away_possWonAtt3rd,home_attemptsObox,away_attemptsObox,home_duelLost,away_duelLost,home_wonContest,away_wonContest,home_accurateFreekickCross,away_accurateFreekickCross,home_openPlayPass,away_openPlayPass,home_possWonMid3rd,away_possWonMid3rd,home_totalFwdZonePass,away_totalFwdZonePass,home_totalPass,away_totalPass,home_accuratePass,away_accuratePass,home_saves,away_saves,home_possWonDef3rd,away_possWonDef3rd,home_attemptsIbox,away_attemptsIbox,home_touches,away_touches,home_accurateLaunches,away_accurateLaunches,home_headClearance,away_headClearance,home_effectiveBlockedCross,away_effectiveBlockedCross,home_attOpenplay,away_attOpenplay,home_fwdPass,away_fwdPass,home_backwardPass,away_backwardPass,home_totalFastbreak,away_totalFastbreak,home_touchesInOppBox,away_touchesInOppBox,home_shotOffTarget,away_shotOffTarget,home_attCorner,away_attCorner,home_blockedPass,away_blockedPass,home_accurateBackZonePass,away_accurateBackZonePass,home_possessionPercentage,away_possessionPercentage,home_totalCornersIntobox,away_totalCornersIntobox,home_totalThroughBall,away_totalThroughBall,home_overrun,away_overrun,home_wonTackle,away_wonTackle,home_totalClearance,away_totalClearance,home_attSetpiece,away_attSetpiece,home_penAreaEntries,away_penAreaEntries,home_ballRecovery,away_ballRecovery,home_cornerTaken,away_cornerTaken,home_cornerTaken,away_cornerTaken,home_fouledFinalThird,away_fouledFinalThird,home_dispossessed,away_dispossessed\\n\")\n",
    "    count = 0\n",
    "    for index, row in df.iterrows():\n",
    "        recent = .5\n",
    "        h2h = .3\n",
    "        hAway = .2\n",
    "\n",
    "        datetime_object = datetime.strptime(row[0], '%m/%d/%y')\n",
    "        sentinal = datetime.strptime(\"5/27/19\", '%m/%d/%y')\n",
    "        if(datetime_object <=  sentinal):\n",
    "            break\n",
    "        hAway_home_team_avg = [0] * 59\n",
    "        hAway_away_team_avg = [0] * 59\n",
    "        hAway_home_team_count = 0\n",
    "        hAway_away_team_count = 0\n",
    "        \n",
    "        h2h_home_team_avg = [0] * 59\n",
    "        h2h_away_team_avg = [0] * 59\n",
    "        h2h_home_team_count = 0\n",
    "        h2h_away_team_count = 0\n",
    "        \n",
    "        recent_home_team_avg = [0] * 59\n",
    "        recent_away_team_avg = [0] * 59\n",
    "        recent_home_team_count = 0\n",
    "        recent_away_team_count = 0\n",
    "        \n",
    "        home_team = row[1]\n",
    "        away_team = row[2]\n",
    "        \n",
    "        all_home = df.loc[(df['home_team'] == row['home_team']) | (df['away_team'] == row['home_team'])]\n",
    "        home_team_games = all_home.loc[all_home['home_team'] == row['home_team']]\n",
    "        \n",
    "        all_away = df.loc[(df['home_team'] == row['away_team']) | (df['away_team'] == row['away_team'])]       \n",
    "        away_team_games = all_away.loc[all_away['away_team'] == row['away_team']]\n",
    "\n",
    "        h2h_games = df.loc[((df['home_team'] == row['home_team']) & (df['away_team'] == row['away_team'])) | ((df['home_team'] == row['away_team']) & (df['away_team'] == row['home_team']))]      \n",
    "    \n",
    "        for index2, row2 in all_home.iterrows():\n",
    "            compare_date = datetime.strptime(row2['date'], '%m/%d/%y')\n",
    "            if compare_date >= datetime_object or recent_home_team_count >= 7:\n",
    "                continue\n",
    "            recent_home_team_count += 1\n",
    "            if row2['home_team'] == home_team:\n",
    "                recent_home_team_avg += row2[9:-1:2].to_numpy()\n",
    "            if row2['away_team'] == home_team:\n",
    "                recent_home_team_avg += row2[10:len(row2):2].to_numpy()\n",
    "        for index2, row2 in all_away.iterrows():\n",
    "            compare_date = datetime.strptime(row2['date'], '%m/%d/%y')\n",
    "            if compare_date >= datetime_object or recent_away_team_count >= 7:\n",
    "                continue\n",
    "            recent_away_team_count += 1\n",
    "            if row2['home_team'] == away_team:\n",
    "                recent_away_team_avg += row2[9:-1:2].to_numpy()\n",
    "            if row2['away_team'] == away_team:\n",
    "                recent_away_team_avg += row2[10:len(row2):2].to_numpy()\n",
    "        for index2, row2 in home_team_games.iterrows():\n",
    "            compare_date = datetime.strptime(row2['date'], '%m/%d/%y')\n",
    "            if compare_date >= datetime_object:\n",
    "                continue\n",
    "            hAway_home_team_count += 1\n",
    "            hAway_home_team_avg += row2[9:-1:2].to_numpy()\n",
    "        for index2, row2 in away_team_games.iterrows():\n",
    "            compare_date = datetime.strptime(row2['date'], '%m/%d/%y')\n",
    "            if compare_date >= datetime_object:\n",
    "                continue\n",
    "            hAway_away_team_count += 1\n",
    "            hAway_away_team_avg += row2[10:len(row2):2].to_numpy()\n",
    "        for index2, row2 in h2h_games.iterrows():\n",
    "            compare_date = datetime.strptime(row2[0], '%m/%d/%y')\n",
    "            if compare_date >= datetime_object:\n",
    "                continue\n",
    "            h2h_home_team_count += 1\n",
    "            h2h_away_team_count += 1\n",
    "            if row2['home_team'] == home_team:\n",
    "                h2h_home_team_avg += row2[9:-1:2].to_numpy()\n",
    "                h2h_away_team_avg += row2[10:len(row2):2].to_numpy()\n",
    "            else:\n",
    "                h2h_home_team_avg += row2[10:len(row2):2].to_numpy()\n",
    "                h2h_away_team_avg += row2[9:-1:2].to_numpy()\n",
    "\n",
    "        #entry = [home_team, away_team, row[0], row[3], row[4], row[5], row[6], row[7], row[8]]\n",
    "        entry = entry = [row[6], row[7], row[8]]\n",
    "        if h2h_home_team_count == 0:\n",
    "            recent = .6\n",
    "            hAway = .4\n",
    "            home_team_avg = ((hAway_home_team_avg / hAway_home_team_count) * hAway)  + ((recent_home_team_avg / recent_home_team_count) * recent)\n",
    "            away_team_avg = ((hAway_away_team_avg / hAway_away_team_count) * hAway) + ((recent_away_team_avg / recent_away_team_count) * recent)\n",
    "        else:\n",
    "            home_team_avg = ((hAway_home_team_avg / hAway_home_team_count) * hAway) + ((h2h_home_team_avg / h2h_home_team_count) * h2h) + ((recent_home_team_avg / recent_home_team_count) * recent)\n",
    "            away_team_avg = ((hAway_away_team_avg / hAway_away_team_count) * hAway) + ((h2h_away_team_avg / h2h_away_team_count) * h2h) + ((recent_away_team_avg / recent_away_team_count) * recent)\n",
    "\n",
    "        for x in range(0,59):\n",
    "            entry.append(home_team_avg[x])\n",
    "            entry.append(away_team_avg[x])\n",
    "        f2.write(','.join(map(str,entry)))\n",
    "        f2.write(\"\\n\")"
   ]
  },
  {
   "cell_type": "code",
   "execution_count": 24,
   "metadata": {},
   "outputs": [
    {
     "name": "stdout",
     "output_type": "stream",
     "text": [
      "0.1 0.9 0.0\n",
      "home_possLostAll         390.045521\n",
      "away_possLostAll         409.690977\n",
      "home_shotFastbreak         0.561560\n",
      "away_shotFastbreak         0.532715\n",
      "home_lastManTackle         0.055734\n",
      "                            ...    \n",
      "away_cornerTaken.1         7.433411\n",
      "home_fouledFinalThird      2.794538\n",
      "away_fouledFinalThird      2.347775\n",
      "home_dispossessed         13.169991\n",
      "away_dispossessed         14.327396\n",
      "Length: 118, dtype: float64\n",
      "home_possLostAll         15009.854607\n",
      "away_possLostAll         15336.295399\n",
      "home_shotFastbreak           0.793541\n",
      "away_shotFastbreak           0.779470\n",
      "home_lastManTackle           0.078402\n",
      "                             ...     \n",
      "away_cornerTaken.1          30.667983\n",
      "home_fouledFinalThird        6.394981\n",
      "away_fouledFinalThird        7.415764\n",
      "home_dispossessed           88.339695\n",
      "away_dispossessed           89.343822\n",
      "Length: 118, dtype: float64\n",
      "0\n",
      "0\n",
      "0.1 0.8 0.09999999999999998\n"
     ]
    },
    {
     "ename": "KeyboardInterrupt",
     "evalue": "",
     "output_type": "error",
     "traceback": [
      "\u001b[0;31m---------------------------------------------------------------------------\u001b[0m",
      "\u001b[0;31mKeyError\u001b[0m                                  Traceback (most recent call last)",
      "\u001b[0;32m~/opt/anaconda3/lib/python3.7/site-packages/pandas/core/indexes/base.py\u001b[0m in \u001b[0;36mget_value\u001b[0;34m(self, series, key)\u001b[0m\n\u001b[1;32m   4729\u001b[0m         \u001b[0;32mtry\u001b[0m\u001b[0;34m:\u001b[0m\u001b[0;34m\u001b[0m\u001b[0;34m\u001b[0m\u001b[0m\n\u001b[0;32m-> 4730\u001b[0;31m             \u001b[0;32mreturn\u001b[0m \u001b[0mself\u001b[0m\u001b[0;34m.\u001b[0m\u001b[0m_engine\u001b[0m\u001b[0;34m.\u001b[0m\u001b[0mget_value\u001b[0m\u001b[0;34m(\u001b[0m\u001b[0ms\u001b[0m\u001b[0;34m,\u001b[0m \u001b[0mk\u001b[0m\u001b[0;34m,\u001b[0m \u001b[0mtz\u001b[0m\u001b[0;34m=\u001b[0m\u001b[0mgetattr\u001b[0m\u001b[0;34m(\u001b[0m\u001b[0mseries\u001b[0m\u001b[0;34m.\u001b[0m\u001b[0mdtype\u001b[0m\u001b[0;34m,\u001b[0m \u001b[0;34m\"tz\"\u001b[0m\u001b[0;34m,\u001b[0m \u001b[0;32mNone\u001b[0m\u001b[0;34m)\u001b[0m\u001b[0;34m)\u001b[0m\u001b[0;34m\u001b[0m\u001b[0;34m\u001b[0m\u001b[0m\n\u001b[0m\u001b[1;32m   4731\u001b[0m         \u001b[0;32mexcept\u001b[0m \u001b[0mKeyError\u001b[0m \u001b[0;32mas\u001b[0m \u001b[0me1\u001b[0m\u001b[0;34m:\u001b[0m\u001b[0;34m\u001b[0m\u001b[0;34m\u001b[0m\u001b[0m\n",
      "\u001b[0;32mpandas/_libs/index.pyx\u001b[0m in \u001b[0;36mpandas._libs.index.IndexEngine.get_value\u001b[0;34m()\u001b[0m\n",
      "\u001b[0;32mpandas/_libs/index.pyx\u001b[0m in \u001b[0;36mpandas._libs.index.IndexEngine.get_value\u001b[0;34m()\u001b[0m\n",
      "\u001b[0;32mpandas/_libs/index.pyx\u001b[0m in \u001b[0;36mpandas._libs.index.IndexEngine.get_loc\u001b[0;34m()\u001b[0m\n",
      "\u001b[0;32mpandas/_libs/hashtable_class_helper.pxi\u001b[0m in \u001b[0;36mpandas._libs.hashtable.PyObjectHashTable.get_item\u001b[0;34m()\u001b[0m\n",
      "\u001b[0;32mpandas/_libs/hashtable_class_helper.pxi\u001b[0m in \u001b[0;36mpandas._libs.hashtable.PyObjectHashTable.get_item\u001b[0;34m()\u001b[0m\n",
      "\u001b[0;31mKeyError\u001b[0m: 7",
      "\nDuring handling of the above exception, another exception occurred:\n",
      "\u001b[0;31mKeyboardInterrupt\u001b[0m                         Traceback (most recent call last)",
      "\u001b[0;32m<ipython-input-24-78fef2ad783a>\u001b[0m in \u001b[0;36m<module>\u001b[0;34m\u001b[0m\n\u001b[1;32m      4\u001b[0m \u001b[0;32mfor\u001b[0m \u001b[0mrecent\u001b[0m \u001b[0;32min\u001b[0m \u001b[0mnp\u001b[0m\u001b[0;34m.\u001b[0m\u001b[0marange\u001b[0m\u001b[0;34m(\u001b[0m\u001b[0;36m.1\u001b[0m\u001b[0;34m,\u001b[0m \u001b[0;36m1\u001b[0m\u001b[0;34m,\u001b[0m \u001b[0;36m.1\u001b[0m\u001b[0;34m)\u001b[0m\u001b[0;34m:\u001b[0m\u001b[0;34m\u001b[0m\u001b[0;34m\u001b[0m\u001b[0m\n\u001b[1;32m      5\u001b[0m     \u001b[0;32mfor\u001b[0m \u001b[0mh2h\u001b[0m \u001b[0;32min\u001b[0m \u001b[0mnp\u001b[0m\u001b[0;34m.\u001b[0m\u001b[0marange\u001b[0m\u001b[0;34m(\u001b[0m\u001b[0;36m1\u001b[0m\u001b[0;34m-\u001b[0m\u001b[0mrecent\u001b[0m\u001b[0;34m,\u001b[0m \u001b[0;36m0\u001b[0m\u001b[0;34m,\u001b[0m \u001b[0;34m-\u001b[0m\u001b[0;36m.1\u001b[0m\u001b[0;34m)\u001b[0m\u001b[0;34m:\u001b[0m\u001b[0;34m\u001b[0m\u001b[0;34m\u001b[0m\u001b[0m\n\u001b[0;32m----> 6\u001b[0;31m         \u001b[0mlength\u001b[0m \u001b[0;34m=\u001b[0m \u001b[0mcalc\u001b[0m\u001b[0;34m(\u001b[0m\u001b[0mrecent\u001b[0m\u001b[0;34m,\u001b[0m \u001b[0mh2h\u001b[0m\u001b[0;34m,\u001b[0m \u001b[0;36m1\u001b[0m\u001b[0;34m-\u001b[0m\u001b[0mrecent\u001b[0m\u001b[0;34m-\u001b[0m\u001b[0mh2h\u001b[0m\u001b[0;34m)\u001b[0m\u001b[0;34m\u001b[0m\u001b[0;34m\u001b[0m\u001b[0m\n\u001b[0m\u001b[1;32m      7\u001b[0m         \u001b[0mprint\u001b[0m\u001b[0;34m(\u001b[0m\u001b[0mlength\u001b[0m\u001b[0;34m)\u001b[0m\u001b[0;34m\u001b[0m\u001b[0;34m\u001b[0m\u001b[0m\n\u001b[1;32m      8\u001b[0m         \u001b[0;32mif\u001b[0m \u001b[0mlength\u001b[0m \u001b[0;34m<\u001b[0m \u001b[0mmaxlength\u001b[0m\u001b[0;34m:\u001b[0m\u001b[0;34m\u001b[0m\u001b[0;34m\u001b[0m\u001b[0m\n",
      "\u001b[0;32m<ipython-input-23-16a4c801f442>\u001b[0m in \u001b[0;36mcalc\u001b[0;34m(recent, h2h, hAway)\u001b[0m\n\u001b[1;32m     80\u001b[0m \u001b[0;34m\u001b[0m\u001b[0m\n\u001b[1;32m     81\u001b[0m             \u001b[0;31m#entry = [home_team, away_team, row[0], row[3], row[4], row[5], row[6], row[7], row[8]]\u001b[0m\u001b[0;34m\u001b[0m\u001b[0;34m\u001b[0m\u001b[0;34m\u001b[0m\u001b[0m\n\u001b[0;32m---> 82\u001b[0;31m             \u001b[0mentry\u001b[0m \u001b[0;34m=\u001b[0m \u001b[0mentry\u001b[0m \u001b[0;34m=\u001b[0m \u001b[0;34m[\u001b[0m\u001b[0mrow\u001b[0m\u001b[0;34m[\u001b[0m\u001b[0;36m6\u001b[0m\u001b[0;34m]\u001b[0m\u001b[0;34m,\u001b[0m \u001b[0mrow\u001b[0m\u001b[0;34m[\u001b[0m\u001b[0;36m7\u001b[0m\u001b[0;34m]\u001b[0m\u001b[0;34m,\u001b[0m \u001b[0mrow\u001b[0m\u001b[0;34m[\u001b[0m\u001b[0;36m8\u001b[0m\u001b[0;34m]\u001b[0m\u001b[0;34m]\u001b[0m\u001b[0;34m\u001b[0m\u001b[0;34m\u001b[0m\u001b[0m\n\u001b[0m\u001b[1;32m     83\u001b[0m             \u001b[0;32mtry\u001b[0m\u001b[0;34m:\u001b[0m\u001b[0;34m\u001b[0m\u001b[0;34m\u001b[0m\u001b[0m\n\u001b[1;32m     84\u001b[0m                 \u001b[0;32mif\u001b[0m \u001b[0mh2h_home_team_count\u001b[0m \u001b[0;34m==\u001b[0m \u001b[0;36m0\u001b[0m\u001b[0;34m:\u001b[0m\u001b[0;34m\u001b[0m\u001b[0;34m\u001b[0m\u001b[0m\n",
      "\u001b[0;32m~/opt/anaconda3/lib/python3.7/site-packages/pandas/core/series.py\u001b[0m in \u001b[0;36m__getitem__\u001b[0;34m(self, key)\u001b[0m\n\u001b[1;32m   1066\u001b[0m         \u001b[0mkey\u001b[0m \u001b[0;34m=\u001b[0m \u001b[0mcom\u001b[0m\u001b[0;34m.\u001b[0m\u001b[0mapply_if_callable\u001b[0m\u001b[0;34m(\u001b[0m\u001b[0mkey\u001b[0m\u001b[0;34m,\u001b[0m \u001b[0mself\u001b[0m\u001b[0;34m)\u001b[0m\u001b[0;34m\u001b[0m\u001b[0;34m\u001b[0m\u001b[0m\n\u001b[1;32m   1067\u001b[0m         \u001b[0;32mtry\u001b[0m\u001b[0;34m:\u001b[0m\u001b[0;34m\u001b[0m\u001b[0;34m\u001b[0m\u001b[0m\n\u001b[0;32m-> 1068\u001b[0;31m             \u001b[0mresult\u001b[0m \u001b[0;34m=\u001b[0m \u001b[0mself\u001b[0m\u001b[0;34m.\u001b[0m\u001b[0mindex\u001b[0m\u001b[0;34m.\u001b[0m\u001b[0mget_value\u001b[0m\u001b[0;34m(\u001b[0m\u001b[0mself\u001b[0m\u001b[0;34m,\u001b[0m \u001b[0mkey\u001b[0m\u001b[0;34m)\u001b[0m\u001b[0;34m\u001b[0m\u001b[0;34m\u001b[0m\u001b[0m\n\u001b[0m\u001b[1;32m   1069\u001b[0m \u001b[0;34m\u001b[0m\u001b[0m\n\u001b[1;32m   1070\u001b[0m             \u001b[0;32mif\u001b[0m \u001b[0;32mnot\u001b[0m \u001b[0mis_scalar\u001b[0m\u001b[0;34m(\u001b[0m\u001b[0mresult\u001b[0m\u001b[0;34m)\u001b[0m\u001b[0;34m:\u001b[0m\u001b[0;34m\u001b[0m\u001b[0;34m\u001b[0m\u001b[0m\n",
      "\u001b[0;32m~/opt/anaconda3/lib/python3.7/site-packages/pandas/core/indexes/base.py\u001b[0m in \u001b[0;36mget_value\u001b[0;34m(self, series, key)\u001b[0m\n\u001b[1;32m   4730\u001b[0m             \u001b[0;32mreturn\u001b[0m \u001b[0mself\u001b[0m\u001b[0;34m.\u001b[0m\u001b[0m_engine\u001b[0m\u001b[0;34m.\u001b[0m\u001b[0mget_value\u001b[0m\u001b[0;34m(\u001b[0m\u001b[0ms\u001b[0m\u001b[0;34m,\u001b[0m \u001b[0mk\u001b[0m\u001b[0;34m,\u001b[0m \u001b[0mtz\u001b[0m\u001b[0;34m=\u001b[0m\u001b[0mgetattr\u001b[0m\u001b[0;34m(\u001b[0m\u001b[0mseries\u001b[0m\u001b[0;34m.\u001b[0m\u001b[0mdtype\u001b[0m\u001b[0;34m,\u001b[0m \u001b[0;34m\"tz\"\u001b[0m\u001b[0;34m,\u001b[0m \u001b[0;32mNone\u001b[0m\u001b[0;34m)\u001b[0m\u001b[0;34m)\u001b[0m\u001b[0;34m\u001b[0m\u001b[0;34m\u001b[0m\u001b[0m\n\u001b[1;32m   4731\u001b[0m         \u001b[0;32mexcept\u001b[0m \u001b[0mKeyError\u001b[0m \u001b[0;32mas\u001b[0m \u001b[0me1\u001b[0m\u001b[0;34m:\u001b[0m\u001b[0;34m\u001b[0m\u001b[0;34m\u001b[0m\u001b[0m\n\u001b[0;32m-> 4732\u001b[0;31m             \u001b[0;32mif\u001b[0m \u001b[0mlen\u001b[0m\u001b[0;34m(\u001b[0m\u001b[0mself\u001b[0m\u001b[0;34m)\u001b[0m \u001b[0;34m>\u001b[0m \u001b[0;36m0\u001b[0m \u001b[0;32mand\u001b[0m \u001b[0;34m(\u001b[0m\u001b[0mself\u001b[0m\u001b[0;34m.\u001b[0m\u001b[0mholds_integer\u001b[0m\u001b[0;34m(\u001b[0m\u001b[0;34m)\u001b[0m \u001b[0;32mor\u001b[0m \u001b[0mself\u001b[0m\u001b[0;34m.\u001b[0m\u001b[0mis_boolean\u001b[0m\u001b[0;34m(\u001b[0m\u001b[0;34m)\u001b[0m\u001b[0;34m)\u001b[0m\u001b[0;34m:\u001b[0m\u001b[0;34m\u001b[0m\u001b[0;34m\u001b[0m\u001b[0m\n\u001b[0m\u001b[1;32m   4733\u001b[0m                 \u001b[0;32mraise\u001b[0m\u001b[0;34m\u001b[0m\u001b[0;34m\u001b[0m\u001b[0m\n\u001b[1;32m   4734\u001b[0m \u001b[0;34m\u001b[0m\u001b[0m\n",
      "\u001b[0;32m~/opt/anaconda3/lib/python3.7/site-packages/pandas/core/indexes/base.py\u001b[0m in \u001b[0;36mis_boolean\u001b[0;34m(self)\u001b[0m\n\u001b[1;32m   1813\u001b[0m \u001b[0;34m\u001b[0m\u001b[0m\n\u001b[1;32m   1814\u001b[0m     \u001b[0;32mdef\u001b[0m \u001b[0mis_boolean\u001b[0m\u001b[0;34m(\u001b[0m\u001b[0mself\u001b[0m\u001b[0;34m)\u001b[0m\u001b[0;34m:\u001b[0m\u001b[0;34m\u001b[0m\u001b[0;34m\u001b[0m\u001b[0m\n\u001b[0;32m-> 1815\u001b[0;31m         \u001b[0;32mreturn\u001b[0m \u001b[0mself\u001b[0m\u001b[0;34m.\u001b[0m\u001b[0minferred_type\u001b[0m \u001b[0;32min\u001b[0m \u001b[0;34m[\u001b[0m\u001b[0;34m\"boolean\"\u001b[0m\u001b[0;34m]\u001b[0m\u001b[0;34m\u001b[0m\u001b[0;34m\u001b[0m\u001b[0m\n\u001b[0m\u001b[1;32m   1816\u001b[0m \u001b[0;34m\u001b[0m\u001b[0m\n\u001b[1;32m   1817\u001b[0m     \u001b[0;32mdef\u001b[0m \u001b[0mis_integer\u001b[0m\u001b[0;34m(\u001b[0m\u001b[0mself\u001b[0m\u001b[0;34m)\u001b[0m\u001b[0;34m:\u001b[0m\u001b[0;34m\u001b[0m\u001b[0;34m\u001b[0m\u001b[0m\n",
      "\u001b[0;31mKeyboardInterrupt\u001b[0m: "
     ]
    }
   ],
   "source": [
    "with open('modified3.csv', \"w\") as f2:\n",
    "    f2.write(\"home_win,away_win,draw,home_possLostAll,away_possLostAll,home_shotFastbreak,away_shotFastbreak,home_lastManTackle,away_lastManTackle,home_totalFinalThirdPasses,away_totalFinalThirdPasses,home_putThrough,away_putThrough,home_accurateGoalKicks,away_accurateGoalKicks,home_aerialLost,away_aerialLost,home_totalLayoffs,away_totalLayoffs,home_interception,away_interception,home_interceptionsInBox,away_interceptionsInBox,home_totalLaunches,away_totalLaunches,home_errorLeadToShot,away_errorLeadToShot,home_effectiveHeadClearance,away_effectiveHeadClearance,home_sixYardBlock,away_sixYardBlock,home_interceptionWon,away_interceptionWon,home_attemptedTackleFoul,away_attemptedTackleFoul,home_crosses18yardplus,away_crosses18yardplus,home_attemptsConcededIbox,away_attemptsConcededIbox,home_attFastbreak,away_attFastbreak,home_finalThirdEntries,away_finalThirdEntries,home_possWonAtt3rd,away_possWonAtt3rd,home_attemptsObox,away_attemptsObox,home_duelLost,away_duelLost,home_wonContest,away_wonContest,home_accurateFreekickCross,away_accurateFreekickCross,home_openPlayPass,away_openPlayPass,home_possWonMid3rd,away_possWonMid3rd,home_totalFwdZonePass,away_totalFwdZonePass,home_totalPass,away_totalPass,home_accuratePass,away_accuratePass,home_saves,away_saves,home_possWonDef3rd,away_possWonDef3rd,home_attemptsIbox,away_attemptsIbox,home_touches,away_touches,home_accurateLaunches,away_accurateLaunches,home_headClearance,away_headClearance,home_effectiveBlockedCross,away_effectiveBlockedCross,home_attOpenplay,away_attOpenplay,home_fwdPass,away_fwdPass,home_backwardPass,away_backwardPass,home_totalFastbreak,away_totalFastbreak,home_touchesInOppBox,away_touchesInOppBox,home_shotOffTarget,away_shotOffTarget,home_attCorner,away_attCorner,home_blockedPass,away_blockedPass,home_accurateBackZonePass,away_accurateBackZonePass,home_possessionPercentage,away_possessionPercentage,home_totalCornersIntobox,away_totalCornersIntobox,home_totalThroughBall,away_totalThroughBall,home_overrun,away_overrun,home_wonTackle,away_wonTackle,home_totalClearance,away_totalClearance,home_attSetpiece,away_attSetpiece,home_penAreaEntries,away_penAreaEntries,home_ballRecovery,away_ballRecovery,home_cornerTaken,away_cornerTaken,home_cornerTaken,away_cornerTaken,home_fouledFinalThird,away_fouledFinalThird,home_dispossessed,away_dispossessed\\n\")\n",
    "    count = 0\n",
    "    for index, row in df.iterrows():\n",
    "        recent = .5\n",
    "        h2h = .3\n",
    "        hAway = .2\n",
    "\n",
    "        datetime_object = datetime.strptime(row[0], '%m/%d/%y')\n",
    "        sentinal = datetime.strptime(\"5/27/19\", '%m/%d/%y')\n",
    "        if(datetime_object <=  sentinal):\n",
    "            break\n",
    "        hAway_home_team_avg = [0] * 59\n",
    "        hAway_away_team_avg = [0] * 59\n",
    "        hAway_home_team_count = 0\n",
    "        hAway_away_team_count = 0\n",
    "        \n",
    "        h2h_home_team_avg = [0] * 59\n",
    "        h2h_away_team_avg = [0] * 59\n",
    "        h2h_home_team_count = 0\n",
    "        h2h_away_team_count = 0\n",
    "        \n",
    "        recent_home_team_avg = [0] * 59\n",
    "        recent_away_team_avg = [0] * 59\n",
    "        recent_home_team_count = 0\n",
    "        recent_away_team_count = 0\n",
    "        \n",
    "        home_team = row[1]\n",
    "        away_team = row[2]\n",
    "        \n",
    "        all_home = df.loc[(df['home_team'] == row['home_team']) | (df['away_team'] == row['home_team'])]\n",
    "        home_team_games = all_home.loc[all_home['home_team'] == row['home_team']]\n",
    "        \n",
    "        all_away = df.loc[(df['home_team'] == row['away_team']) | (df['away_team'] == row['away_team'])]       \n",
    "        away_team_games = all_away.loc[all_away['away_team'] == row['away_team']]\n",
    "\n",
    "        h2h_games = df.loc[((df['home_team'] == row['home_team']) & (df['away_team'] == row['away_team'])) | ((df['home_team'] == row['away_team']) & (df['away_team'] == row['home_team']))]      \n",
    "    \n",
    "        for index2, row2 in all_home.iterrows():\n",
    "            compare_date = datetime.strptime(row2['date'], '%m/%d/%y')\n",
    "            if compare_date >= datetime_object or recent_home_team_count >= 7:\n",
    "                continue\n",
    "            recent_home_team_count += 1\n",
    "            if row2['home_team'] == home_team:\n",
    "                recent_home_team_avg += row2[9:-1:2].to_numpy()\n",
    "            if row2['away_team'] == home_team:\n",
    "                recent_home_team_avg += row2[10:len(row2):2].to_numpy()\n",
    "        for index2, row2 in all_away.iterrows():\n",
    "            compare_date = datetime.strptime(row2['date'], '%m/%d/%y')\n",
    "            if compare_date >= datetime_object or recent_away_team_count >= 7:\n",
    "                continue\n",
    "            recent_away_team_count += 1\n",
    "            if row2['home_team'] == away_team:\n",
    "                recent_away_team_avg += row2[9:-1:2].to_numpy()\n",
    "            if row2['away_team'] == away_team:\n",
    "                recent_away_team_avg += row2[10:len(row2):2].to_numpy()\n",
    "        for index2, row2 in home_team_games.iterrows():\n",
    "            compare_date = datetime.strptime(row2['date'], '%m/%d/%y')\n",
    "            if compare_date >= datetime_object:\n",
    "                continue\n",
    "            hAway_home_team_count += 1\n",
    "            hAway_home_team_avg += row2[9:-1:2].to_numpy()\n",
    "        for index2, row2 in away_team_games.iterrows():\n",
    "            compare_date = datetime.strptime(row2['date'], '%m/%d/%y')\n",
    "            if compare_date >= datetime_object:\n",
    "                continue\n",
    "            hAway_away_team_count += 1\n",
    "            hAway_away_team_avg += row2[10:len(row2):2].to_numpy()\n",
    "        for index2, row2 in h2h_games.iterrows():\n",
    "            compare_date = datetime.strptime(row2[0], '%m/%d/%y')\n",
    "            if compare_date >= datetime_object:\n",
    "                continue\n",
    "            h2h_home_team_count += 1\n",
    "            h2h_away_team_count += 1\n",
    "            if row2['home_team'] == home_team:\n",
    "                h2h_home_team_avg += row2[9:-1:2].to_numpy()\n",
    "                h2h_away_team_avg += row2[10:len(row2):2].to_numpy()\n",
    "            else:\n",
    "                h2h_home_team_avg += row2[10:len(row2):2].to_numpy()\n",
    "                h2h_away_team_avg += row2[9:-1:2].to_numpy()\n",
    "\n",
    "        #entry = [home_team, away_team, row[0], row[3], row[4], row[5], row[6], row[7], row[8]]\n",
    "        entry = entry = [row[6], row[7], row[8]]\n",
    "        if h2h_home_team_count == 0:\n",
    "            recent = .6\n",
    "            hAway = .4\n",
    "            home_team_avg = ((hAway_home_team_avg / hAway_home_team_count) * hAway)  + ((recent_home_team_avg / recent_home_team_count) * recent)\n",
    "            away_team_avg = ((hAway_away_team_avg / hAway_away_team_count) * hAway) + ((recent_away_team_avg / recent_away_team_count) * recent)\n",
    "        else:\n",
    "            home_team_avg = ((hAway_home_team_avg / hAway_home_team_count) * hAway) + ((h2h_home_team_avg / h2h_home_team_count) * h2h) + ((recent_home_team_avg / recent_home_team_count) * recent)\n",
    "            away_team_avg = ((hAway_away_team_avg / hAway_away_team_count) * hAway) + ((h2h_away_team_avg / h2h_away_team_count) * h2h) + ((recent_away_team_avg / recent_away_team_count) * recent)\n",
    "\n",
    "        for x in range(0,59):\n",
    "            entry.append(home_team_avg[x])\n",
    "            entry.append(away_team_avg[x])\n",
    "        f2.write(','.join(map(str,entry)))\n",
    "        f2.write(\"\\n\")"
   ]
  },
  {
   "cell_type": "code",
   "execution_count": 12,
   "metadata": {},
   "outputs": [
    {
     "name": "stdout",
     "output_type": "stream",
     "text": [
      "5/23/21\n"
     ]
    }
   ],
   "source": [
    "[[.7, .1], []]\n",
    "for index, row in df.iterrows():\n",
    "    datetime_object = datetime.strptime(row['date'], '%m/%d/%y')\n",
    "    print(row['date'])\n",
    "    break"
   ]
  },
  {
   "cell_type": "code",
   "execution_count": 3,
   "metadata": {},
   "outputs": [],
   "source": [
    "train = pd.read_csv('train.csv')\n",
    "train = train.iloc[:1291, 3:]\n",
    "hyper = pd.read_csv('modified3.csv')\n",
    "hyper = hyper.iloc[:1291, 3:]\n",
    "\n",
    "perfect = pd.read_csv('perfect_model.csv')\n",
    "perfect = perfect.iloc[:1291,3:]"
   ]
  },
  {
   "cell_type": "code",
   "execution_count": 4,
   "metadata": {},
   "outputs": [],
   "source": [
    "mse = (np.square(train - perfect)).mean(axis=0)"
   ]
  },
  {
   "cell_type": "code",
   "execution_count": 6,
   "metadata": {},
   "outputs": [],
   "source": [
    "mse2 = (np.square(hyper - perfect)).mean(axis=0)"
   ]
  },
  {
   "cell_type": "code",
   "execution_count": 7,
   "metadata": {},
   "outputs": [
    {
     "data": {
      "text/plain": [
       "77"
      ]
     },
     "execution_count": 7,
     "metadata": {},
     "output_type": "execute_result"
    }
   ],
   "source": [
    "compare = mse - mse2\n",
    "compare[compare > 0].size\n"
   ]
  },
  {
   "cell_type": "code",
   "execution_count": 82,
   "metadata": {},
   "outputs": [
    {
     "data": {
      "text/plain": [
       "118"
      ]
     },
     "execution_count": 82,
     "metadata": {},
     "output_type": "execute_result"
    }
   ],
   "source": [
    "compare.size"
   ]
  },
  {
   "cell_type": "code",
   "execution_count": 74,
   "metadata": {},
   "outputs": [
    {
     "data": {
      "text/plain": [
       "0                       NaN\n",
       "0.0035714285714285713   NaN\n",
       "0.01785714285714286     NaN\n",
       "0.1                     NaN\n",
       "0.21071428571428572     NaN\n",
       "                         ..\n",
       "home_totalThroughBall   NaN\n",
       "home_touches            NaN\n",
       "home_touchesInOppBox    NaN\n",
       "home_wonContest         NaN\n",
       "home_wonTackle          NaN\n",
       "Length: 242, dtype: float64"
      ]
     },
     "execution_count": 74,
     "metadata": {},
     "output_type": "execute_result"
    }
   ],
   "source": [
    "mse2"
   ]
  },
  {
   "cell_type": "code",
   "execution_count": null,
   "metadata": {},
   "outputs": [],
   "source": []
  }
 ],
 "metadata": {
  "kernelspec": {
   "display_name": "Python 3",
   "language": "python",
   "name": "python3"
  },
  "language_info": {
   "codemirror_mode": {
    "name": "ipython",
    "version": 3
   },
   "file_extension": ".py",
   "mimetype": "text/x-python",
   "name": "python",
   "nbconvert_exporter": "python",
   "pygments_lexer": "ipython3",
   "version": "3.7.4"
  }
 },
 "nbformat": 4,
 "nbformat_minor": 2
}
